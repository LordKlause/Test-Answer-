
{
 "cells": [
  {
   "cell_type": "code",
   "execution_count": null,
   "id": "7f9b0898",
   "metadata": {},
   "outputs": [],
   "source": [
    "\n",
    "import pandas as pd\n",
    "import matplotlib.pyplot as plt\n",
    "\n",
    "# Load dataset\n",
    "df = pd.read_csv(\"school_grades_dataset.csv\")\n",
    "df.head()\n"
   ]
  },
  {
   "cell_type": "code",
   "execution_count": null,
   "id": "85b54628",
   "metadata": {},
   "outputs": [],
   "source": [
    "\n",
    "avg_per_year = df.groupby(\"Year\")[\"Grade\"].mean()\n",
    "plt.figure(figsize=(8,5))\n",
    "plt.plot(avg_per_year.index, avg_per_year.values, marker='o')\n",
    "plt.title(\"Average Grade per Year\")\n",
    "plt.xlabel(\"Year\")\n",
    "plt.ylabel(\"Average Grade\")\n",
    "plt.grid(True)\n",
    "plt.show()\n"
   ]
  },
  {
   "cell_type": "code",
   "execution_count": null,
   "id": "47271d10",
   "metadata": {},
   "outputs": [],
   "source": [
    "\n",
    "avg_per_subject = df.groupby(\"Subject\")[\"Grade\"].mean()\n",
    "plt.figure(figsize=(8,5))\n",
    "avg_per_subject.plot(kind='bar', color='skyblue')\n",
    "plt.title(\"Average Grade per Subject\")\n",
    "plt.xlabel(\"Subject\")\n",
    "plt.ylabel(\"Average Grade\")\n",
    "plt.show()\n"
   ]
  },
  {
   "cell_type": "code",
   "execution_count": null,
   "id": "cf6dccbe",
   "metadata": {},
   "outputs": [],
   "source": [
    "\n",
    "plt.figure(figsize=(8,5))\n",
    "plt.hist(df[\"Grade\"], bins=10, color='purple', edgecolor='black')\n",
    "plt.title(\"Grade Distribution\")\n",
    "plt.xlabel(\"Grade\")\n",
    "plt.ylabel(\"Frequency\")\n",
    "plt.show()\n"
   ]
  },
  {
   "cell_type": "code",
   "execution_count": null,
   "id": "8f1ce6af",
   "metadata": {},
   "outputs": [],
   "source": [
    "\n",
    "plt.figure(figsize=(8,5))\n",
    "df.boxplot(column=\"Grade\", by=\"Subject\", grid=False)\n",
    "plt.title(\"Grades per Subject\")\n",
    "plt.suptitle(\"\")\n",
    "plt.xlabel(\"Subject\")\n",
    "plt.ylabel(\"Grade\")\n",
    "plt.show()\n"
   ]
  },
  {
   "cell_type": "code",
   "execution_count": null,
   "id": "d9dd77a6",
   "metadata": {},
   "outputs": [],
   "source": [
    "\n",
    "plt.figure(figsize=(8,5))\n",
    "plt.scatter(df[\"Year\"], df[\"Grade\"], alpha=0.5)\n",
    "plt.title(\"Year vs Grade\")\n",
    "plt.xlabel(\"Year\")\n",
    "plt.ylabel(\"Grade\")\n",
    "plt.show()\n"
   ]
  },
  {
   "cell_type": "code",
   "execution_count": null,
   "id": "8732a14f",
   "metadata": {},
   "outputs": [],
   "source": [
    "\n",
    "subject_counts = df[\"Subject\"].value_counts()\n",
    "plt.figure(figsize=(8,8))\n",
    "subject_counts.plot(kind='pie', autopct='%1.1f%%', startangle=140)\n",
    "plt.title(\"Student Count per Subject\")\n",
    "plt.ylabel(\"\")\n",
    "plt.show()\n"
   ]
  },
  {
   "cell_type": "code",
   "execution_count": null,
   "id": "3359206f",
   "metadata": {},
   "outputs": [],
   "source": [
    "\n",
    "top_students = df.sort_values(by=\"Grade\", ascending=False).head(10)\n",
    "plt.figure(figsize=(8,5))\n",
    "plt.barh(top_students[\"Name\"], top_students[\"Grade\"], color='orange')\n",
    "plt.title(\"Top 10 Students by Grade\")\n",
    "plt.xlabel(\"Grade\")\n",
    "plt.ylabel(\"Student Name\")\n",
    "plt.gca().invert_yaxis()\n",
    "plt.show()\n"
   ]
  },
  {
   "cell_type": "code",
   "execution_count": null,
   "id": "07d68fee",
   "metadata": {},
   "outputs": [],
   "source": [
    "\n",
    "avg_subject_year = df.groupby([\"Year\", \"Subject\"])[\"Grade\"].mean().unstack()\n",
    "avg_subject_year.plot(kind='bar', figsize=(10,6))\n",
    "plt.title(\"Average Grade per Subject per Year\")\n",
    "plt.xlabel(\"Year\")\n",
    "plt.ylabel(\"Average Grade\")\n",
    "plt.legend(title=\"Subject\")\n",
    "plt.show()\n"
   ]
  },
  {
   "cell_type": "code",
   "execution_count": null,
   "id": "37db00bc",
   "metadata": {},
   "outputs": [],
   "source": [
    "\n",
    "grade_bins = [50, 60, 70, 80, 90, 100]\n",
    "df[\"GradeRange\"] = pd.cut(df[\"Grade\"], bins=grade_bins)\n",
    "grade_dist = df.groupby([\"Year\", \"GradeRange\"]).size().unstack()\n",
    "grade_dist.plot(kind='bar', stacked=True, figsize=(10,6))\n",
    "plt.title(\"Grade Distribution per Year\")\n",
    "plt.xlabel(\"Year\")\n",
    "plt.ylabel(\"Number of Students\")\n",
    "plt.legend(title=\"Grade Range\")\n",
    "plt.show()\n"
   ]
  }
 ],
 "metadata": {},
 "nbformat": 4,
 "nbformat_minor": 5
}
